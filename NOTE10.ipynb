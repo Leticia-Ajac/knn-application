{
  "nbformat": 4,
  "nbformat_minor": 0,
  "metadata": {
    "colab": {
      "provenance": []
    },
    "kernelspec": {
      "name": "python3",
      "display_name": "Python 3"
    },
    "language_info": {
      "name": "python"
    }
  },
  "cells": [
    {
      "cell_type": "code",
      "execution_count": null,
      "metadata": {
        "id": "V09SZX27gyf-"
      },
      "outputs": [],
      "source": [
        "import numpy as np\n",
        "import pandas as pd\n",
        "import seaborn as sns\n",
        "import matplotlib.pyplot as plt\n",
        "from google.colab import files\n",
        "\n",
        "from sklearn.compose import make_column_selector, ColumnTransformer\n",
        "from sklearn.preprocessing import OneHotEncoder, LabelEncoder, OrdinalEncoder, MinMaxScaler, StandardScaler\n",
        "\n",
        "from sklearn.model_selection import train_test_split\n",
        "\n",
        "from sklearn.neighbors import KNeighborsClassifier\n",
        "\n",
        "from sklearn.metrics import accuracy_score, confusion_matrix, classification_report\n",
        "\n",
        "from sklearn.model_selection import GridSearchCV"
      ]
    },
    {
      "cell_type": "code",
      "source": [
        "upload = files.upload()"
      ],
      "metadata": {
        "colab": {
          "base_uri": "https://localhost:8080/",
          "height": 73
        },
        "id": "AyduqfKPhfgR",
        "outputId": "8b7e80b9-27b1-4f95-f145-46c0860c145f"
      },
      "execution_count": null,
      "outputs": [
        {
          "output_type": "display_data",
          "data": {
            "text/plain": [
              "<IPython.core.display.HTML object>"
            ],
            "text/html": [
              "\n",
              "     <input type=\"file\" id=\"files-923960dd-3e0a-4822-abd5-3a657fba9289\" name=\"files[]\" multiple disabled\n",
              "        style=\"border:none\" />\n",
              "     <output id=\"result-923960dd-3e0a-4822-abd5-3a657fba9289\">\n",
              "      Upload widget is only available when the cell has been executed in the\n",
              "      current browser session. Please rerun this cell to enable.\n",
              "      </output>\n",
              "      <script>// Copyright 2017 Google LLC\n",
              "//\n",
              "// Licensed under the Apache License, Version 2.0 (the \"License\");\n",
              "// you may not use this file except in compliance with the License.\n",
              "// You may obtain a copy of the License at\n",
              "//\n",
              "//      http://www.apache.org/licenses/LICENSE-2.0\n",
              "//\n",
              "// Unless required by applicable law or agreed to in writing, software\n",
              "// distributed under the License is distributed on an \"AS IS\" BASIS,\n",
              "// WITHOUT WARRANTIES OR CONDITIONS OF ANY KIND, either express or implied.\n",
              "// See the License for the specific language governing permissions and\n",
              "// limitations under the License.\n",
              "\n",
              "/**\n",
              " * @fileoverview Helpers for google.colab Python module.\n",
              " */\n",
              "(function(scope) {\n",
              "function span(text, styleAttributes = {}) {\n",
              "  const element = document.createElement('span');\n",
              "  element.textContent = text;\n",
              "  for (const key of Object.keys(styleAttributes)) {\n",
              "    element.style[key] = styleAttributes[key];\n",
              "  }\n",
              "  return element;\n",
              "}\n",
              "\n",
              "// Max number of bytes which will be uploaded at a time.\n",
              "const MAX_PAYLOAD_SIZE = 100 * 1024;\n",
              "\n",
              "function _uploadFiles(inputId, outputId) {\n",
              "  const steps = uploadFilesStep(inputId, outputId);\n",
              "  const outputElement = document.getElementById(outputId);\n",
              "  // Cache steps on the outputElement to make it available for the next call\n",
              "  // to uploadFilesContinue from Python.\n",
              "  outputElement.steps = steps;\n",
              "\n",
              "  return _uploadFilesContinue(outputId);\n",
              "}\n",
              "\n",
              "// This is roughly an async generator (not supported in the browser yet),\n",
              "// where there are multiple asynchronous steps and the Python side is going\n",
              "// to poll for completion of each step.\n",
              "// This uses a Promise to block the python side on completion of each step,\n",
              "// then passes the result of the previous step as the input to the next step.\n",
              "function _uploadFilesContinue(outputId) {\n",
              "  const outputElement = document.getElementById(outputId);\n",
              "  const steps = outputElement.steps;\n",
              "\n",
              "  const next = steps.next(outputElement.lastPromiseValue);\n",
              "  return Promise.resolve(next.value.promise).then((value) => {\n",
              "    // Cache the last promise value to make it available to the next\n",
              "    // step of the generator.\n",
              "    outputElement.lastPromiseValue = value;\n",
              "    return next.value.response;\n",
              "  });\n",
              "}\n",
              "\n",
              "/**\n",
              " * Generator function which is called between each async step of the upload\n",
              " * process.\n",
              " * @param {string} inputId Element ID of the input file picker element.\n",
              " * @param {string} outputId Element ID of the output display.\n",
              " * @return {!Iterable<!Object>} Iterable of next steps.\n",
              " */\n",
              "function* uploadFilesStep(inputId, outputId) {\n",
              "  const inputElement = document.getElementById(inputId);\n",
              "  inputElement.disabled = false;\n",
              "\n",
              "  const outputElement = document.getElementById(outputId);\n",
              "  outputElement.innerHTML = '';\n",
              "\n",
              "  const pickedPromise = new Promise((resolve) => {\n",
              "    inputElement.addEventListener('change', (e) => {\n",
              "      resolve(e.target.files);\n",
              "    });\n",
              "  });\n",
              "\n",
              "  const cancel = document.createElement('button');\n",
              "  inputElement.parentElement.appendChild(cancel);\n",
              "  cancel.textContent = 'Cancel upload';\n",
              "  const cancelPromise = new Promise((resolve) => {\n",
              "    cancel.onclick = () => {\n",
              "      resolve(null);\n",
              "    };\n",
              "  });\n",
              "\n",
              "  // Wait for the user to pick the files.\n",
              "  const files = yield {\n",
              "    promise: Promise.race([pickedPromise, cancelPromise]),\n",
              "    response: {\n",
              "      action: 'starting',\n",
              "    }\n",
              "  };\n",
              "\n",
              "  cancel.remove();\n",
              "\n",
              "  // Disable the input element since further picks are not allowed.\n",
              "  inputElement.disabled = true;\n",
              "\n",
              "  if (!files) {\n",
              "    return {\n",
              "      response: {\n",
              "        action: 'complete',\n",
              "      }\n",
              "    };\n",
              "  }\n",
              "\n",
              "  for (const file of files) {\n",
              "    const li = document.createElement('li');\n",
              "    li.append(span(file.name, {fontWeight: 'bold'}));\n",
              "    li.append(span(\n",
              "        `(${file.type || 'n/a'}) - ${file.size} bytes, ` +\n",
              "        `last modified: ${\n",
              "            file.lastModifiedDate ? file.lastModifiedDate.toLocaleDateString() :\n",
              "                                    'n/a'} - `));\n",
              "    const percent = span('0% done');\n",
              "    li.appendChild(percent);\n",
              "\n",
              "    outputElement.appendChild(li);\n",
              "\n",
              "    const fileDataPromise = new Promise((resolve) => {\n",
              "      const reader = new FileReader();\n",
              "      reader.onload = (e) => {\n",
              "        resolve(e.target.result);\n",
              "      };\n",
              "      reader.readAsArrayBuffer(file);\n",
              "    });\n",
              "    // Wait for the data to be ready.\n",
              "    let fileData = yield {\n",
              "      promise: fileDataPromise,\n",
              "      response: {\n",
              "        action: 'continue',\n",
              "      }\n",
              "    };\n",
              "\n",
              "    // Use a chunked sending to avoid message size limits. See b/62115660.\n",
              "    let position = 0;\n",
              "    do {\n",
              "      const length = Math.min(fileData.byteLength - position, MAX_PAYLOAD_SIZE);\n",
              "      const chunk = new Uint8Array(fileData, position, length);\n",
              "      position += length;\n",
              "\n",
              "      const base64 = btoa(String.fromCharCode.apply(null, chunk));\n",
              "      yield {\n",
              "        response: {\n",
              "          action: 'append',\n",
              "          file: file.name,\n",
              "          data: base64,\n",
              "        },\n",
              "      };\n",
              "\n",
              "      let percentDone = fileData.byteLength === 0 ?\n",
              "          100 :\n",
              "          Math.round((position / fileData.byteLength) * 100);\n",
              "      percent.textContent = `${percentDone}% done`;\n",
              "\n",
              "    } while (position < fileData.byteLength);\n",
              "  }\n",
              "\n",
              "  // All done.\n",
              "  yield {\n",
              "    response: {\n",
              "      action: 'complete',\n",
              "    }\n",
              "  };\n",
              "}\n",
              "\n",
              "scope.google = scope.google || {};\n",
              "scope.google.colab = scope.google.colab || {};\n",
              "scope.google.colab._files = {\n",
              "  _uploadFiles,\n",
              "  _uploadFilesContinue,\n",
              "};\n",
              "})(self);\n",
              "</script> "
            ]
          },
          "metadata": {}
        },
        {
          "output_type": "stream",
          "name": "stdout",
          "text": [
            "Saving online_shoppers_intention.csv to online_shoppers_intention.csv\n"
          ]
        }
      ]
    },
    {
      "cell_type": "code",
      "source": [
        "df = pd.read_csv('online_shoppers_intention.csv')\n",
        "df.info()"
      ],
      "metadata": {
        "colab": {
          "base_uri": "https://localhost:8080/"
        },
        "id": "VRQ_u0YSh9vD",
        "outputId": "b939bd53-b565-4901-a4e0-fb7c8a86175b"
      },
      "execution_count": null,
      "outputs": [
        {
          "output_type": "stream",
          "name": "stdout",
          "text": [
            "<class 'pandas.core.frame.DataFrame'>\n",
            "RangeIndex: 12330 entries, 0 to 12329\n",
            "Data columns (total 18 columns):\n",
            " #   Column                   Non-Null Count  Dtype  \n",
            "---  ------                   --------------  -----  \n",
            " 0   Administrative           12330 non-null  int64  \n",
            " 1   Administrative_Duration  12330 non-null  float64\n",
            " 2   Informational            12330 non-null  int64  \n",
            " 3   Informational_Duration   12330 non-null  float64\n",
            " 4   ProductRelated           12330 non-null  int64  \n",
            " 5   ProductRelated_Duration  12330 non-null  float64\n",
            " 6   BounceRates              12330 non-null  float64\n",
            " 7   ExitRates                12330 non-null  float64\n",
            " 8   PageValues               12330 non-null  float64\n",
            " 9   SpecialDay               12330 non-null  float64\n",
            " 10  Month                    12330 non-null  object \n",
            " 11  OperatingSystems         12330 non-null  int64  \n",
            " 12  Browser                  12330 non-null  int64  \n",
            " 13  Region                   12330 non-null  int64  \n",
            " 14  TrafficType              12330 non-null  int64  \n",
            " 15  VisitorType              12330 non-null  object \n",
            " 16  Weekend                  12330 non-null  bool   \n",
            " 17  Revenue                  12330 non-null  bool   \n",
            "dtypes: bool(2), float64(7), int64(7), object(2)\n",
            "memory usage: 1.5+ MB\n"
          ]
        }
      ]
    },
    {
      "cell_type": "code",
      "source": [
        "features = df.drop(labels='Revenue', axis=1)\n",
        "sample = df['Revenue']\n",
        "COLUMNS = features.columns.values\n",
        "print(np.unique(sample))"
      ],
      "metadata": {
        "id": "1WU0b1rEiOFn",
        "colab": {
          "base_uri": "https://localhost:8080/"
        },
        "outputId": "ab8c91b4-f5e2-4b22-db5c-2f20c9c9cffb"
      },
      "execution_count": null,
      "outputs": [
        {
          "output_type": "stream",
          "name": "stdout",
          "text": [
            "[False  True]\n"
          ]
        }
      ]
    },
    {
      "cell_type": "code",
      "source": [
        "sample = LabelEncoder().fit_transform(sample)\n",
        "np.unique(sample)"
      ],
      "metadata": {
        "colab": {
          "base_uri": "https://localhost:8080/"
        },
        "id": "dfD6m9_xm8Ss",
        "outputId": "a9a2579e-b08c-4784-c3c5-01be88f32cc7"
      },
      "execution_count": null,
      "outputs": [
        {
          "output_type": "execute_result",
          "data": {
            "text/plain": [
              "array([0, 1])"
            ]
          },
          "metadata": {},
          "execution_count": 5
        }
      ]
    },
    {
      "cell_type": "code",
      "source": [
        "stand_ord = ColumnTransformer(transformers=[\n",
        "    ('categoricas', OrdinalEncoder(), make_column_selector(dtype_include=['object','bool'])),\n",
        "    ('numéricas',StandardScaler(), make_column_selector(dtype_include=['float64','int64']))],\n",
        "    remainder='passthrough',\n",
        "    verbose_feature_names_out= False,)\n",
        "\n",
        "stand_dum = ColumnTransformer(transformers=[\n",
        "    ('categoricas', OneHotEncoder(), make_column_selector(dtype_include=['object','bool'])),\n",
        "    ('numéricas',StandardScaler(), make_column_selector(dtype_include=['float64','int64']))],\n",
        "    remainder='passthrough',\n",
        "    verbose_feature_names_out= False,)\n",
        "\n",
        "norm_ord = ColumnTransformer(transformers=[\n",
        "    ('categoricas', OrdinalEncoder(), make_column_selector(dtype_include=['object','bool'])),\n",
        "    ('numéricas',MinMaxScaler(), make_column_selector(dtype_include=['float64','int64']))],\n",
        "    remainder='passthrough',\n",
        "    verbose_feature_names_out= False,)\n",
        "\n",
        "norm_dum = ColumnTransformer(transformers=[\n",
        "    ('categoricas', OneHotEncoder(), make_column_selector(dtype_include=['object','bool'])),\n",
        "    ('numéricas',MinMaxScaler(), make_column_selector(dtype_include=['float64','int64']))],\n",
        "    remainder='passthrough',\n",
        "    verbose_feature_names_out= False,)"
      ],
      "metadata": {
        "id": "F89LiRHxjB08"
      },
      "execution_count": null,
      "outputs": []
    },
    {
      "cell_type": "code",
      "source": [
        "features_stand_ord = pd.DataFrame(stand_ord.fit_transform(features), columns=stand_ord.get_feature_names_out())\n",
        "\n",
        "features_stand_dum = pd.DataFrame(stand_dum.fit_transform(features), columns=stand_dum.get_feature_names_out())\n",
        "\n",
        "features_norm_ord = pd.DataFrame(norm_ord.fit_transform(features), columns=norm_ord.get_feature_names_out())\n",
        "\n",
        "features_norm_dum = pd.DataFrame(norm_dum.fit_transform(features), columns=norm_dum.get_feature_names_out())"
      ],
      "metadata": {
        "id": "VnJypMi-m5Cs"
      },
      "execution_count": null,
      "outputs": []
    },
    {
      "cell_type": "code",
      "source": [
        "features_stand_ord = features_stand_ord[COLUMNS]\n",
        "\n",
        "features_norm_ord = features_norm_ord[COLUMNS]"
      ],
      "metadata": {
        "id": "ctvrAho8oay6"
      },
      "execution_count": null,
      "outputs": []
    },
    {
      "cell_type": "code",
      "source": [
        "F_so_train, F_so_test, S_so_train, S_so_test = train_test_split(features_stand_ord, sample, random_state=42,test_size=0.30)\n",
        "\n",
        "F_sd_train, F_sd_test, S_sd_train, S_sd_test = train_test_split(features_stand_dum, sample, random_state=42,test_size=0.30)\n",
        "\n",
        "F_no_train, F_no_test, S_no_train, S_no_test = train_test_split(features_norm_ord, sample, random_state=42,test_size=0.30)\n",
        "\n",
        "F_nd_train, F_nd_test, S_nd_train, S_nd_test = train_test_split(features_norm_dum, sample, random_state=42,test_size=0.30)"
      ],
      "metadata": {
        "id": "ooGUH2vis5AJ"
      },
      "execution_count": null,
      "outputs": []
    },
    {
      "cell_type": "code",
      "source": [
        "k = 10\n",
        "classifier_knn_1 = KNeighborsClassifier(n_neighbors=k)\n",
        "classifier_knn_2 = KNeighborsClassifier(n_neighbors=k)\n",
        "classifier_knn_3 = KNeighborsClassifier(n_neighbors=k)\n",
        "classifier_knn_4 = KNeighborsClassifier(n_neighbors=k)"
      ],
      "metadata": {
        "id": "oRTuFfzFsH6J"
      },
      "execution_count": null,
      "outputs": []
    },
    {
      "cell_type": "code",
      "source": [
        "classifier_knn_1.fit(F_so_train,S_so_train)\n",
        "\n",
        "classifier_knn_2.fit(F_sd_train,S_sd_train)\n",
        "\n",
        "classifier_knn_3.fit(F_no_train,S_no_train)\n",
        "\n",
        "classifier_knn_4.fit(F_nd_train,S_nd_train)"
      ],
      "metadata": {
        "colab": {
          "base_uri": "https://localhost:8080/",
          "height": 74
        },
        "id": "__QquzLluBr0",
        "outputId": "be93be24-600a-42eb-a7f5-520183301885"
      },
      "execution_count": null,
      "outputs": [
        {
          "output_type": "execute_result",
          "data": {
            "text/plain": [
              "KNeighborsClassifier(n_neighbors=10)"
            ],
            "text/html": [
              "<style>#sk-container-id-1 {color: black;background-color: white;}#sk-container-id-1 pre{padding: 0;}#sk-container-id-1 div.sk-toggleable {background-color: white;}#sk-container-id-1 label.sk-toggleable__label {cursor: pointer;display: block;width: 100%;margin-bottom: 0;padding: 0.3em;box-sizing: border-box;text-align: center;}#sk-container-id-1 label.sk-toggleable__label-arrow:before {content: \"▸\";float: left;margin-right: 0.25em;color: #696969;}#sk-container-id-1 label.sk-toggleable__label-arrow:hover:before {color: black;}#sk-container-id-1 div.sk-estimator:hover label.sk-toggleable__label-arrow:before {color: black;}#sk-container-id-1 div.sk-toggleable__content {max-height: 0;max-width: 0;overflow: hidden;text-align: left;background-color: #f0f8ff;}#sk-container-id-1 div.sk-toggleable__content pre {margin: 0.2em;color: black;border-radius: 0.25em;background-color: #f0f8ff;}#sk-container-id-1 input.sk-toggleable__control:checked~div.sk-toggleable__content {max-height: 200px;max-width: 100%;overflow: auto;}#sk-container-id-1 input.sk-toggleable__control:checked~label.sk-toggleable__label-arrow:before {content: \"▾\";}#sk-container-id-1 div.sk-estimator input.sk-toggleable__control:checked~label.sk-toggleable__label {background-color: #d4ebff;}#sk-container-id-1 div.sk-label input.sk-toggleable__control:checked~label.sk-toggleable__label {background-color: #d4ebff;}#sk-container-id-1 input.sk-hidden--visually {border: 0;clip: rect(1px 1px 1px 1px);clip: rect(1px, 1px, 1px, 1px);height: 1px;margin: -1px;overflow: hidden;padding: 0;position: absolute;width: 1px;}#sk-container-id-1 div.sk-estimator {font-family: monospace;background-color: #f0f8ff;border: 1px dotted black;border-radius: 0.25em;box-sizing: border-box;margin-bottom: 0.5em;}#sk-container-id-1 div.sk-estimator:hover {background-color: #d4ebff;}#sk-container-id-1 div.sk-parallel-item::after {content: \"\";width: 100%;border-bottom: 1px solid gray;flex-grow: 1;}#sk-container-id-1 div.sk-label:hover label.sk-toggleable__label {background-color: #d4ebff;}#sk-container-id-1 div.sk-serial::before {content: \"\";position: absolute;border-left: 1px solid gray;box-sizing: border-box;top: 0;bottom: 0;left: 50%;z-index: 0;}#sk-container-id-1 div.sk-serial {display: flex;flex-direction: column;align-items: center;background-color: white;padding-right: 0.2em;padding-left: 0.2em;position: relative;}#sk-container-id-1 div.sk-item {position: relative;z-index: 1;}#sk-container-id-1 div.sk-parallel {display: flex;align-items: stretch;justify-content: center;background-color: white;position: relative;}#sk-container-id-1 div.sk-item::before, #sk-container-id-1 div.sk-parallel-item::before {content: \"\";position: absolute;border-left: 1px solid gray;box-sizing: border-box;top: 0;bottom: 0;left: 50%;z-index: -1;}#sk-container-id-1 div.sk-parallel-item {display: flex;flex-direction: column;z-index: 1;position: relative;background-color: white;}#sk-container-id-1 div.sk-parallel-item:first-child::after {align-self: flex-end;width: 50%;}#sk-container-id-1 div.sk-parallel-item:last-child::after {align-self: flex-start;width: 50%;}#sk-container-id-1 div.sk-parallel-item:only-child::after {width: 0;}#sk-container-id-1 div.sk-dashed-wrapped {border: 1px dashed gray;margin: 0 0.4em 0.5em 0.4em;box-sizing: border-box;padding-bottom: 0.4em;background-color: white;}#sk-container-id-1 div.sk-label label {font-family: monospace;font-weight: bold;display: inline-block;line-height: 1.2em;}#sk-container-id-1 div.sk-label-container {text-align: center;}#sk-container-id-1 div.sk-container {/* jupyter's `normalize.less` sets `[hidden] { display: none; }` but bootstrap.min.css set `[hidden] { display: none !important; }` so we also need the `!important` here to be able to override the default hidden behavior on the sphinx rendered scikit-learn.org. See: https://github.com/scikit-learn/scikit-learn/issues/21755 */display: inline-block !important;position: relative;}#sk-container-id-1 div.sk-text-repr-fallback {display: none;}</style><div id=\"sk-container-id-1\" class=\"sk-top-container\"><div class=\"sk-text-repr-fallback\"><pre>KNeighborsClassifier(n_neighbors=10)</pre><b>In a Jupyter environment, please rerun this cell to show the HTML representation or trust the notebook. <br />On GitHub, the HTML representation is unable to render, please try loading this page with nbviewer.org.</b></div><div class=\"sk-container\" hidden><div class=\"sk-item\"><div class=\"sk-estimator sk-toggleable\"><input class=\"sk-toggleable__control sk-hidden--visually\" id=\"sk-estimator-id-1\" type=\"checkbox\" checked><label for=\"sk-estimator-id-1\" class=\"sk-toggleable__label sk-toggleable__label-arrow\">KNeighborsClassifier</label><div class=\"sk-toggleable__content\"><pre>KNeighborsClassifier(n_neighbors=10)</pre></div></div></div></div></div>"
            ]
          },
          "metadata": {},
          "execution_count": 11
        }
      ]
    },
    {
      "cell_type": "code",
      "source": [
        "predict_SO = classifier_knn_1.predict(F_so_test)\n",
        "predict_SD = classifier_knn_2.predict(F_sd_test)\n",
        "predict_NO = classifier_knn_3.predict(F_no_test)\n",
        "predict_ND = classifier_knn_4.predict(F_nd_test)"
      ],
      "metadata": {
        "id": "aSCTkUKMwKJP"
      },
      "execution_count": null,
      "outputs": []
    },
    {
      "cell_type": "markdown",
      "source": [
        "# <center>Métricas</center>"
      ],
      "metadata": {
        "id": "-Tm6xgTW26Gq"
      }
    },
    {
      "cell_type": "code",
      "source": [
        "accuracy_SO = accuracy_score(S_so_test, predict_SO)\n",
        "accuracy_SD = accuracy_score(S_sd_test, predict_SD)\n",
        "accuracy_NO = accuracy_score(S_no_test, predict_NO)\n",
        "accuracy_ND = accuracy_score(S_nd_test, predict_ND)\n",
        "print(f'Standardization and OrdinalEncoder: {round(accuracy_SO*100,4)}%')\n",
        "print(f'Standardization and Dummy: {round(accuracy_SD*100,4)}%')\n",
        "print(f'Normalization and OrdinalEncoder: {round(accuracy_NO*100,4)}%')\n",
        "print(f'Normalization and Dummy: {round(accuracy_ND*100,4)}%')"
      ],
      "metadata": {
        "colab": {
          "base_uri": "https://localhost:8080/"
        },
        "id": "9A0Fqykkwp87",
        "outputId": "bbc2412c-b909-433c-de2d-029cad51cbb4"
      },
      "execution_count": null,
      "outputs": [
        {
          "output_type": "stream",
          "name": "stdout",
          "text": [
            "Standardization and OrdinalEncoder: 87.5642%\n",
            "Standardization and Dummy: 87.7805%\n",
            "Normalization and OrdinalEncoder: 85.3744%\n",
            "Normalization and Dummy: 85.3744%\n"
          ]
        }
      ]
    },
    {
      "cell_type": "code",
      "source": [
        "confusionMatrix_SO = confusion_matrix(S_so_test,predict_SO)\n",
        "sns.heatmap(confusionMatrix_SO, square=True, annot=True, cbar=True, fmt='d')"
      ],
      "metadata": {
        "colab": {
          "base_uri": "https://localhost:8080/",
          "height": 448
        },
        "id": "ibzAQDn8yPhQ",
        "outputId": "51d5c14e-c307-4e9c-a58f-1c034fa52e54"
      },
      "execution_count": null,
      "outputs": [
        {
          "output_type": "execute_result",
          "data": {
            "text/plain": [
              "<Axes: >"
            ]
          },
          "metadata": {},
          "execution_count": 14
        },
        {
          "output_type": "display_data",
          "data": {
            "text/plain": [
              "<Figure size 640x480 with 2 Axes>"
            ],
            "image/png": "[encoded data removed]"
          },
          "metadata": {}
        }
      ]
    },
    {
      "cell_type": "code",
      "source": [
        "report = classification_report(S_so_test,predict_SO)\n",
        "print(report)"
      ],
      "metadata": {
        "colab": {
          "base_uri": "https://localhost:8080/"
        },
        "id": "NypL3v8eslUG",
        "outputId": "145b842c-f046-4163-b7cd-f14609003416"
      },
      "execution_count": null,
      "outputs": [
        {
          "output_type": "stream",
          "name": "stdout",
          "text": [
            "              precision    recall  f1-score   support\n",
            "\n",
            "           0       0.88      0.98      0.93      3124\n",
            "           1       0.76      0.29      0.42       575\n",
            "\n",
            "    accuracy                           0.88      3699\n",
            "   macro avg       0.82      0.64      0.68      3699\n",
            "weighted avg       0.86      0.88      0.85      3699\n",
            "\n"
          ]
        }
      ]
    },
    {
      "cell_type": "markdown",
      "source": [
        "# which is the better K?"
      ],
      "metadata": {
        "id": "ColwUjMjGjiK"
      }
    },
    {
      "cell_type": "code",
      "source": [
        "train = []\n",
        "test = []\n",
        "\n",
        "ks = range(1,30)\n",
        "\n",
        "for k in ks:\n",
        "  classifier_knn = KNeighborsClassifier(n_neighbors = k)\n",
        "  classifier_knn.fit(F_so_train, S_so_train)\n",
        "  train.append(accuracy_score(S_so_train, classifier_knn.predict(F_so_train)))\n",
        "  test.append(accuracy_score(S_so_test, classifier_knn.predict(F_so_test)))"
      ],
      "metadata": {
        "id": "N6AZ37yQGipI"
      },
      "execution_count": null,
      "outputs": []
    },
    {
      "cell_type": "code",
      "source": [
        "plt.plot(ks, train, label = \"Performance Treino\", marker = 'o')\n",
        "plt.plot(ks, test, label = \"Performance Teste\", marker = 'o')\n",
        "plt.xlabel('Valores de k')\n",
        "plt.ylabel('Acurácia')\n",
        "plt.legend()\n",
        "plt.show()"
      ],
      "metadata": {
        "colab": {
          "base_uri": "https://localhost:8080/",
          "height": 449
        },
        "id": "mNWKUGdRI9aN",
        "outputId": "d12edfc8-0668-4158-d622-40375afa7213"
      },
      "execution_count": null,
      "outputs": [
        {
          "output_type": "display_data",
          "data": {
            "text/plain": [
              "<Figure size 640x480 with 1 Axes>"
            ],
            "image/png": "[encoded data removed]"
          },
          "metadata": {}
        }
      ]
    },
    {
      "cell_type": "code",
      "source": [
        "print(f'Melhor K no Teste: {test.index(max(test))}')\n",
        "print(f'Melhor Acurrácia: {round(max(test)*100,4)}%')\n",
        "#print(test)"
      ],
      "metadata": {
        "colab": {
          "base_uri": "https://localhost:8080/"
        },
        "id": "YNBF16ElJ-VW",
        "outputId": "7dadff09-dfa7-4b97-d722-7fa0a75ae232"
      },
      "execution_count": null,
      "outputs": [
        {
          "output_type": "stream",
          "name": "stdout",
          "text": [
            "Melhor K no Teste: 6\n",
            "Melhor Acurrácia: 87.6994%\n"
          ]
        }
      ]
    },
    {
      "cell_type": "markdown",
      "source": [
        "# cross validation"
      ],
      "metadata": {
        "id": "Gfx5dbM0NTwN"
      }
    },
    {
      "cell_type": "code",
      "source": [
        "knn = KNeighborsClassifier()\n",
        "\n",
        "params = {'n_neighbors': ks}\n",
        "\n",
        "grid = GridSearchCV(knn, params, cv=5)\n",
        "grid.fit(F_so_train, S_so_train)\n",
        "\n",
        "print(f'Melhor valor de K: {grid.best_params_}')\n",
        "print(f'Melhor classificador: {grid.best_estimator_}')\n",
        "print(f'Melhor score (médio): {round(grid.best_score_*100,4)}%')"
      ],
      "metadata": {
        "colab": {
          "base_uri": "https://localhost:8080/"
        },
        "id": "MWBXO1M7LDSk",
        "outputId": "d4f1cdac-c5f7-4ecc-f324-da435cec611d"
      },
      "execution_count": null,
      "outputs": [
        {
          "output_type": "stream",
          "name": "stdout",
          "text": [
            "Melhor valor de K: {'n_neighbors': 10}\n",
            "Melhor classificador: KNeighborsClassifier(n_neighbors=10)\n",
            "Melhor score (médio): 87.8462%\n"
          ]
        }
      ]
    },
    {
      "cell_type": "code",
      "source": [
        "print(f'Primeira Acurácia: {round(accuracy_SO*100,4)}%')\n",
        "print(f'Segunda Acurácia: {round(max(test)*100,4)}%')\n",
        "print(f'Terceira Acurácia: {round(grid.best_score_*100,4)}%')"
      ],
      "metadata": {
        "colab": {
          "base_uri": "https://localhost:8080/"
        },
        "id": "ZgYPuA8HT2_z",
        "outputId": "b0f28858-8e54-41e6-d726-a2241f6c92fc"
      },
      "execution_count": null,
      "outputs": [
        {
          "output_type": "stream",
          "name": "stdout",
          "text": [
            "Primeira Acurácia: 87.5642%\n",
            "Segunda Acurácia: 87.6994%\n",
            "Terceira Acurácia: 87.8462%\n"
          ]
        }
      ]
    }
  ]
}